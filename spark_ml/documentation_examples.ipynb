{
 "cells": [
  {
   "cell_type": "code",
   "execution_count": 15,
   "metadata": {},
   "outputs": [],
   "source": [
    "import os\n",
    "import numpy as np\n",
    "from pyspark.sql import SparkSession\n",
    "import matplotlib.pyplot as plt\n",
    "\n",
    "%matplotlib inline"
   ]
  },
  {
   "cell_type": "code",
   "execution_count": 2,
   "metadata": {},
   "outputs": [
    {
     "name": "stdout",
     "output_type": "stream",
     "text": [
      "<pyspark.sql.session.SparkSession object at 0x7f67acf08da0>\n"
     ]
    }
   ],
   "source": [
    "spark = SparkSession.builder.appName('lrg').getOrCreate()\n",
    "print(spark)"
   ]
  },
  {
   "cell_type": "markdown",
   "metadata": {},
   "source": [
    "#### Linear Regression ####"
   ]
  },
  {
   "cell_type": "code",
   "execution_count": 4,
   "metadata": {},
   "outputs": [],
   "source": [
    "from pyspark.ml.regression import LinearRegression"
   ]
  },
  {
   "cell_type": "code",
   "execution_count": 7,
   "metadata": {},
   "outputs": [
    {
     "name": "stdout",
     "output_type": "stream",
     "text": [
      "root\n",
      " |-- label: double (nullable = true)\n",
      " |-- features: vector (nullable = true)\n",
      "\n",
      "501\n"
     ]
    }
   ],
   "source": [
    "data = spark.read.format(\"libsvm\").load('../data/sample_linear_regression_data.txt')\n",
    "data.printSchema()\n",
    "print(data.count())"
   ]
  },
  {
   "cell_type": "code",
   "execution_count": 6,
   "metadata": {},
   "outputs": [
    {
     "name": "stdout",
     "output_type": "stream",
     "text": [
      "+-------------------+--------------------+\n",
      "|              label|            features|\n",
      "+-------------------+--------------------+\n",
      "| -9.490009878824548|(10,[0,1,2,3,4,5,...|\n",
      "| 0.2577820163584905|(10,[0,1,2,3,4,5,...|\n",
      "| -4.438869807456516|(10,[0,1,2,3,4,5,...|\n",
      "|-19.782762789614537|(10,[0,1,2,3,4,5,...|\n",
      "| -7.966593841555266|(10,[0,1,2,3,4,5,...|\n",
      "| -7.896274316726144|(10,[0,1,2,3,4,5,...|\n",
      "| -8.464803554195287|(10,[0,1,2,3,4,5,...|\n",
      "| 2.1214592666251364|(10,[0,1,2,3,4,5,...|\n",
      "| 1.0720117616524107|(10,[0,1,2,3,4,5,...|\n",
      "|-13.772441561702871|(10,[0,1,2,3,4,5,...|\n",
      "| -5.082010756207233|(10,[0,1,2,3,4,5,...|\n",
      "|  7.887786536531237|(10,[0,1,2,3,4,5,...|\n",
      "| 14.323146365332388|(10,[0,1,2,3,4,5,...|\n",
      "|-20.057482615789212|(10,[0,1,2,3,4,5,...|\n",
      "|-0.8995693247765151|(10,[0,1,2,3,4,5,...|\n",
      "| -19.16829262296376|(10,[0,1,2,3,4,5,...|\n",
      "|  5.601801561245534|(10,[0,1,2,3,4,5,...|\n",
      "|-3.2256352187273354|(10,[0,1,2,3,4,5,...|\n",
      "| 1.5299675726687754|(10,[0,1,2,3,4,5,...|\n",
      "| -0.250102447941961|(10,[0,1,2,3,4,5,...|\n",
      "+-------------------+--------------------+\n",
      "only showing top 20 rows\n",
      "\n"
     ]
    }
   ],
   "source": [
    "data.show()"
   ]
  },
  {
   "cell_type": "code",
   "execution_count": 12,
   "metadata": {},
   "outputs": [],
   "source": [
    "##### Training with full data #####\n",
    "lr = LinearRegression(featuresCol='features',labelCol='label',predictionCol='preds',maxIter = 10,\n",
    "                     regParam=0.3,elasticNetParam=0.8)\n",
    "\n",
    "trainedModel = lr.fit(data)"
   ]
  },
  {
   "cell_type": "code",
   "execution_count": 14,
   "metadata": {},
   "outputs": [
    {
     "name": "stdout",
     "output_type": "stream",
     "text": [
      "coefficients :  [0.0,0.32292516677405936,-0.3438548034562218,1.9156017023458414,0.05288058680386263,0.765962720459771,0.0,-0.15105392669186682,-0.21587930360904642,0.22025369188813426]\n",
      "intercept :  0.1598936844239736\n",
      "R^2 score :  0.022861466913958184\n",
      "Mean squared Error :  10.189077167598475\n"
     ]
    }
   ],
   "source": [
    "print('coefficients : ',trainedModel.coefficients)\n",
    "print('intercept : ',trainedModel.intercept)\n",
    "summary = trainedModel.summary\n",
    "print('R^2 score : ',summary.r2)\n",
    "print('Mean squared Error : ',summary.rootMeanSquaredError)\n",
    "summary.residuals.show()"
   ]
  },
  {
   "cell_type": "code",
   "execution_count": 21,
   "metadata": {},
   "outputs": [
    {
     "data": {
      "text/plain": [
       "Text(0, 0.5, 'loss')"
      ]
     },
     "execution_count": 21,
     "metadata": {},
     "output_type": "execute_result"
    },
    {
     "data": {
      "image/png": "[encoded data removed]",
      "text/plain": [
       "<Figure size 432x288 with 1 Axes>"
      ]
     },
     "metadata": {
      "needs_background": "light"
     },
     "output_type": "display_data"
    }
   ],
   "source": [
    "plt.plot(summary.objectiveHistory)\n",
    "plt.xlabel('Iteration')\n",
    "plt.ylabel('loss')"
   ]
  },
  {
   "cell_type": "code",
   "execution_count": 22,
   "metadata": {},
   "outputs": [],
   "source": [
    "######## Training with train and test split ############"
   ]
  },
  {
   "cell_type": "code",
   "execution_count": 23,
   "metadata": {},
   "outputs": [
    {
     "name": "stdout",
     "output_type": "stream",
     "text": [
      "501\n"
     ]
    }
   ],
   "source": [
    "all_data = spark.read.format('libsvm').load('../data/sample_linear_regression_data.txt')\n",
    "print(all_data.count())"
   ]
  },
  {
   "cell_type": "code",
   "execution_count": 25,
   "metadata": {},
   "outputs": [
    {
     "name": "stdout",
     "output_type": "stream",
     "text": [
      "371 130\n"
     ]
    }
   ],
   "source": [
    "train_data,test_data = all_data.randomSplit([0.7,0.3])\n",
    "print(train_data.count(),test_data.count())"
   ]
  },
  {
   "cell_type": "code",
   "execution_count": 26,
   "metadata": {},
   "outputs": [
    {
     "name": "stdout",
     "output_type": "stream",
     "text": [
      "coefficients :  [0.0,0.1286584761505309,-0.36555728132020815,2.523995816149882,0.0,0.17731923835531402,0.0,-0.3036993169562027,-0.24355646410209925,0.03787443853644392]\n",
      "intercept :  0.10995784950756873\n",
      "R^2 score :  0.02664439880628755\n",
      "Mean squared Error :  10.4781174260138\n",
      "+-------------------+\n",
      "|          residuals|\n",
      "+-------------------+\n",
      "|-27.612642290755467|\n",
      "|-29.066391141480118|\n",
      "| -24.51005489059308|\n",
      "|-20.984509484743963|\n",
      "|-23.430955046153723|\n",
      "|-24.460642346063356|\n",
      "|-21.008673510099655|\n",
      "| -20.48955408487685|\n",
      "|  -21.9402031152567|\n",
      "|-21.234320056392466|\n",
      "| -20.80670156109031|\n",
      "|-21.140045858342074|\n",
      "|-19.904672115992945|\n",
      "|-20.063859298105587|\n",
      "| -18.36461145087947|\n",
      "| -20.08576491328342|\n",
      "| -17.55172193610647|\n",
      "|-15.247470334692487|\n",
      "|-18.798657092124866|\n",
      "|-14.965707210821893|\n",
      "+-------------------+\n",
      "only showing top 20 rows\n",
      "\n"
     ]
    },
    {
     "data": {
      "text/plain": [
       "Text(0, 0.5, 'loss')"
      ]
     },
     "execution_count": 26,
     "metadata": {},
     "output_type": "execute_result"
    },
    {
     "data": {
      "image/png": "[encoded data removed]",
      "text/plain": [
       "<Figure size 432x288 with 1 Axes>"
      ]
     },
     "metadata": {
      "needs_background": "light"
     },
     "output_type": "display_data"
    }
   ],
   "source": [
    "trainedModel = lr.fit(train_data)\n",
    "\n",
    "print('coefficients : ',trainedModel.coefficients)\n",
    "print('intercept : ',trainedModel.intercept)\n",
    "summary = trainedModel.summary\n",
    "print('R^2 score : ',summary.r2)\n",
    "print('Mean squared Error : ',summary.rootMeanSquaredError)\n",
    "summary.residuals.show()\n",
    "\n",
    "## loss plot\n",
    "plt.plot(summary.objectiveHistory)\n",
    "plt.xlabel('Iteration')\n",
    "plt.ylabel('loss')"
   ]
  },
  {
   "cell_type": "code",
   "execution_count": 31,
   "metadata": {},
   "outputs": [
    {
     "name": "stdout",
     "output_type": "stream",
     "text": [
      "R^2 score :  -0.00494283421483388\n",
      "RMSE :  9.379904914678546\n"
     ]
    }
   ],
   "source": [
    "preds = trainedModel.evaluate(test_data)\n",
    "\n",
    "print('R^2 score : ',preds.r2)\n",
    "print('RMSE : ',preds.rootMeanSquaredError)"
   ]
  },
  {
   "cell_type": "code",
   "execution_count": null,
   "metadata": {},
   "outputs": [],
   "source": []
  }
 ],
 "metadata": {
  "kernelspec": {
   "display_name": "Python 3",
   "language": "python",
   "name": "python3"
  },
  "language_info": {
   "codemirror_mode": {
    "name": "ipython",
    "version": 3
   },
   "file_extension": ".py",
   "mimetype": "text/x-python",
   "name": "python",
   "nbconvert_exporter": "python",
   "pygments_lexer": "ipython3",
   "version": "3.6.9"
  }
 },
 "nbformat": 4,
 "nbformat_minor": 4
}
