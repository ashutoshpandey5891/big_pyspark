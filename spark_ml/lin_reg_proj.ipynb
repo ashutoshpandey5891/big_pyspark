{
 "cells": [
  {
   "cell_type": "code",
   "execution_count": 1,
   "metadata": {},
   "outputs": [
    {
     "name": "stdout",
     "output_type": "stream",
     "text": [
      "['Builder', '__class__', '__delattr__', '__dict__', '__dir__', '__doc__', '__enter__', '__eq__', '__exit__', '__format__', '__ge__', '__getattribute__', '__gt__', '__hash__', '__init__', '__init_subclass__', '__le__', '__lt__', '__module__', '__ne__', '__new__', '__reduce__', '__reduce_ex__', '__repr__', '__setattr__', '__sizeof__', '__str__', '__subclasshook__', '__weakref__', '_activeSession', '_convert_from_pandas', '_createFromLocal', '_createFromRDD', '_create_dataframe', '_create_from_pandas_with_arrow', '_create_shell_session', '_get_numpy_record_dtype', '_inferSchema', '_inferSchemaFromList', '_instantiatedSession', '_jsc', '_jsparkSession', '_jvm', '_jwrapped', '_repr_html_', '_sc', '_wrapped', 'builder', 'catalog', 'conf', 'createDataFrame', 'getActiveSession', 'newSession', 'range', 'read', 'readStream', 'sparkContext', 'sql', 'stop', 'streams', 'table', 'udf', 'version']\n"
     ]
    }
   ],
   "source": [
    "from pyspark.sql import SparkSession\n",
    "import numpy as np\n",
    "import os\n",
    "\n",
    "spark = SparkSession.builder.appName('linreg2').getOrCreate()\n",
    "print(dir(spark))"
   ]
  },
  {
   "cell_type": "code",
   "execution_count": 27,
   "metadata": {},
   "outputs": [],
   "source": [
    "# function imports\n",
    "from pyspark.sql.functions import isnan,count,when\n",
    "from pyspark.sql.functions import col as spark_col"
   ]
  },
  {
   "cell_type": "code",
   "execution_count": 2,
   "metadata": {},
   "outputs": [
    {
     "name": "stdout",
     "output_type": "stream",
     "text": [
      "root\n",
      " |-- Ship_name: string (nullable = true)\n",
      " |-- Cruise_line: string (nullable = true)\n",
      " |-- Age: integer (nullable = true)\n",
      " |-- Tonnage: double (nullable = true)\n",
      " |-- passengers: double (nullable = true)\n",
      " |-- length: double (nullable = true)\n",
      " |-- cabins: double (nullable = true)\n",
      " |-- passenger_density: double (nullable = true)\n",
      " |-- crew: double (nullable = true)\n",
      "\n"
     ]
    }
   ],
   "source": [
    "data_path = '../data/cruise_ship_info.csv'\n",
    "df_orig = spark.read.csv(data_path,inferSchema = True,header=True)\n",
    "df_orig.printSchema()"
   ]
  },
  {
   "cell_type": "code",
   "execution_count": 3,
   "metadata": {},
   "outputs": [
    {
     "name": "stdout",
     "output_type": "stream",
     "text": [
      "Data Shape :  (158, 9)\n"
     ]
    }
   ],
   "source": [
    "print('Data Shape : ',(df_orig.count(),len(df_orig.columns))) # get shape \n",
    "data = df_orig.select('*') # create copy of data"
   ]
  },
  {
   "cell_type": "code",
   "execution_count": 5,
   "metadata": {},
   "outputs": [
    {
     "name": "stdout",
     "output_type": "stream",
     "text": [
      "{'Ship_name': 'Journey', 'Cruise_line': 'Azamara', 'Age': 6, 'Tonnage': 30.276999999999997, 'passengers': 6.94, 'length': 5.94, 'cabins': 3.55, 'passenger_density': 42.64, 'crew': 3.55}\n",
      "{'Ship_name': 'Quest', 'Cruise_line': 'Azamara', 'Age': 6, 'Tonnage': 30.276999999999997, 'passengers': 6.94, 'length': 5.94, 'cabins': 3.55, 'passenger_density': 42.64, 'crew': 3.55}\n",
      "{'Ship_name': 'Celebration', 'Cruise_line': 'Carnival', 'Age': 26, 'Tonnage': 47.262, 'passengers': 14.86, 'length': 7.22, 'cabins': 7.43, 'passenger_density': 31.8, 'crew': 6.7}\n",
      "{'Ship_name': 'Conquest', 'Cruise_line': 'Carnival', 'Age': 11, 'Tonnage': 110.0, 'passengers': 29.74, 'length': 9.53, 'cabins': 14.88, 'passenger_density': 36.99, 'crew': 19.1}\n",
      "{'Ship_name': 'Destiny', 'Cruise_line': 'Carnival', 'Age': 17, 'Tonnage': 101.353, 'passengers': 26.42, 'length': 8.92, 'cabins': 13.21, 'passenger_density': 38.36, 'crew': 10.0}\n"
     ]
    }
   ],
   "source": [
    "for i in range(5):\n",
    "    print(data.head(5)[i].asDict()) # data example"
   ]
  },
  {
   "cell_type": "code",
   "execution_count": 30,
   "metadata": {},
   "outputs": [
    {
     "name": "stdout",
     "output_type": "stream",
     "text": [
      "+---------+-----------+---+-------+----------+------+------+-----------------+----+\n",
      "|Ship_name|Cruise_line|Age|Tonnage|passengers|length|cabins|passenger_density|crew|\n",
      "+---------+-----------+---+-------+----------+------+------+-----------------+----+\n",
      "|        0|          0|  0|      0|         0|     0|     0|                0|   0|\n",
      "+---------+-----------+---+-------+----------+------+------+-----------------+----+\n",
      "\n"
     ]
    }
   ],
   "source": [
    "###  check for null values\n",
    "\n",
    "# Method 1\n",
    "\n",
    "# def get_null_count(data,col):\n",
    "#     return (data.count() - data.select(col).na.drop(how=\"any\").count())\n",
    "\n",
    "# for col in data.columns:\n",
    "#     print('{} : {}'.format(col,get_null_count(data,col)))\n",
    "\n",
    "# Method 2\n",
    "\n",
    "\n",
    "data.select([count(when( isnan(c) | spark_col(c).isNull(),c)).alias(c) for c in data.columns]).show()"
   ]
  },
  {
   "cell_type": "code",
   "execution_count": 24,
   "metadata": {},
   "outputs": [
    {
     "name": "stdout",
     "output_type": "stream",
     "text": [
      "+---------+-----------+---+-------+----------+------+------+-----------------+----+\n",
      "|Ship_name|Cruise_line|Age|Tonnage|passengers|length|cabins|passenger_density|crew|\n",
      "+---------+-----------+---+-------+----------+------+------+-----------------+----+\n",
      "|        0|          0|  0|      0|         0|     0|     0|                0|   0|\n",
      "+---------+-----------+---+-------+----------+------+------+-----------------+----+\n",
      "\n"
     ]
    }
   ],
   "source": [
    "data.select([count(when(isnan(c),c)).alias(c) for c in data.columns]).show()"
   ]
  },
  {
   "cell_type": "code",
   "execution_count": 26,
   "metadata": {},
   "outputs": [
    {
     "data": {
      "text/plain": [
       "'crew'"
      ]
     },
     "execution_count": 26,
     "metadata": {},
     "output_type": "execute_result"
    }
   ],
   "source": []
  },
  {
   "cell_type": "code",
   "execution_count": null,
   "metadata": {},
   "outputs": [],
   "source": []
  }
 ],
 "metadata": {
  "kernelspec": {
   "display_name": "Python 3",
   "language": "python",
   "name": "python3"
  },
  "language_info": {
   "codemirror_mode": {
    "name": "ipython",
    "version": 3
   },
   "file_extension": ".py",
   "mimetype": "text/x-python",
   "name": "python",
   "nbconvert_exporter": "python",
   "pygments_lexer": "ipython3",
   "version": "3.6.9"
  }
 },
 "nbformat": 4,
 "nbformat_minor": 4
}
